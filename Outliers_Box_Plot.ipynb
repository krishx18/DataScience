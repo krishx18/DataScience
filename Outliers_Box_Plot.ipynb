{
  "nbformat": 4,
  "nbformat_minor": 0,
  "metadata": {
    "colab": {
      "provenance": []
    },
    "kernelspec": {
      "name": "python3",
      "display_name": "Python 3"
    },
    "language_info": {
      "name": "python"
    }
  },
  "cells": [
    {
      "cell_type": "markdown",
      "source": [
        "**5 Number Summary and Box plot**"
      ],
      "metadata": {
        "id": "YpJ4AJ59j82S"
      }
    },
    {
      "cell_type": "code",
      "execution_count": 1,
      "metadata": {
        "id": "FKntWvgrj78p"
      },
      "outputs": [],
      "source": [
        "# Minimum, Maximum,Median,Q1,Q2,Q3,IQR\n",
        "import numpy as np"
      ]
    },
    {
      "cell_type": "code",
      "source": [
        "lst_marks = [45,32,56,75,89,54,32,89,90,87,67,54,45,98,99,67,74]\n",
        "minimum,Q1,median,Q3,Maximun = np.quantile(lst_marks,[0,0.25,0.50,0.75,1.0])"
      ],
      "metadata": {
        "id": "YpHLSo5VkMA-"
      },
      "execution_count": 2,
      "outputs": []
    },
    {
      "cell_type": "code",
      "source": [
        "minimum,Q1,median,Q3,Maximun"
      ],
      "metadata": {
        "colab": {
          "base_uri": "https://localhost:8080/"
        },
        "id": "jY1rxzWRkmgC",
        "outputId": "8d024986-e112-494d-cf92-fd8978f01e90"
      },
      "execution_count": 3,
      "outputs": [
        {
          "output_type": "execute_result",
          "data": {
            "text/plain": [
              "(32.0, 54.0, 67.0, 89.0, 99.0)"
            ]
          },
          "metadata": {},
          "execution_count": 3
        }
      ]
    },
    {
      "cell_type": "code",
      "source": [
        "IQR = Q3-Q1"
      ],
      "metadata": {
        "id": "9G6Ehd6Xkod9"
      },
      "execution_count": 4,
      "outputs": []
    },
    {
      "cell_type": "markdown",
      "source": [
        "We know to see outliers we define higher_fence and lower_fence values"
      ],
      "metadata": {
        "id": "BgqmdAp4k8eX"
      }
    },
    {
      "cell_type": "code",
      "source": [
        "lower_fence =Q1 - 1.5*IQR\n",
        "higher_fence = Q3 + 1.5*IQR"
      ],
      "metadata": {
        "id": "zkCsM8Euk4uZ"
      },
      "execution_count": 5,
      "outputs": []
    },
    {
      "cell_type": "code",
      "source": [
        "lower_fence,higher_fence\n",
        "#Any value less then lower_fence will be outlier\n",
        "#Any value higher then higher_fence will be outlier"
      ],
      "metadata": {
        "colab": {
          "base_uri": "https://localhost:8080/"
        },
        "id": "sQERA1T-lPK2",
        "outputId": "7bb493bb-3440-4d33-d782-5ad37b43ecf0"
      },
      "execution_count": 7,
      "outputs": [
        {
          "output_type": "execute_result",
          "data": {
            "text/plain": [
              "(1.5, 141.5)"
            ]
          },
          "metadata": {},
          "execution_count": 7
        }
      ]
    },
    {
      "cell_type": "code",
      "source": [
        "# we can use seabon libray to plot box plot.\n",
        "# Box plot itself tells outliers\n",
        "# Seaborn library itself calculates higher,lower fence\n",
        "import seaborn as sns"
      ],
      "metadata": {
        "id": "ax1CObWulR2u"
      },
      "execution_count": 12,
      "outputs": []
    },
    {
      "cell_type": "code",
      "source": [
        "sns.boxplot(lst_marks)"
      ],
      "metadata": {
        "colab": {
          "base_uri": "https://localhost:8080/",
          "height": 429
        },
        "id": "gKFVnz3Dlkf9",
        "outputId": "f2a66fcc-dd6e-4eef-d26d-9c41bfb7c0d4"
      },
      "execution_count": 13,
      "outputs": [
        {
          "output_type": "execute_result",
          "data": {
            "text/plain": [
              "<Axes: >"
            ]
          },
          "metadata": {},
          "execution_count": 13
        },
        {
          "output_type": "display_data",
          "data": {
            "text/plain": [
              "<Figure size 640x480 with 1 Axes>"
            ],
            "image/png": "[encoded data removed]"
          },
          "metadata": {}
        }
      ]
    },
    {
      "cell_type": "markdown",
      "source": [
        "We can see no outliers"
      ],
      "metadata": {
        "id": "b54nSkaQlwCe"
      }
    },
    {
      "cell_type": "code",
      "source": [
        "outliers = [-10,45,32,56,75,89,54,32,89,90,87,67,54,45,98,99,67,74,200,250]\n",
        "sns.boxplot(outliers)"
      ],
      "metadata": {
        "colab": {
          "base_uri": "https://localhost:8080/",
          "height": 429
        },
        "id": "YVzmXvOIls-f",
        "outputId": "ed135424-2b61-4c08-9cca-b798168f7f4e"
      },
      "execution_count": 14,
      "outputs": [
        {
          "output_type": "execute_result",
          "data": {
            "text/plain": [
              "<Axes: >"
            ]
          },
          "metadata": {},
          "execution_count": 14
        },
        {
          "output_type": "display_data",
          "data": {
            "text/plain": [
              "<Figure size 640x480 with 1 Axes>"
            ],
            "image/png": "[encoded data removed]"
          },
          "metadata": {}
        }
      ]
    },
    {
      "cell_type": "markdown",
      "source": [
        "The dots are the outliers"
      ],
      "metadata": {
        "id": "owZx4Y14mDHE"
      }
    },
    {
      "cell_type": "code",
      "source": [],
      "metadata": {
        "id": "vugyTFLrmA5m"
      },
      "execution_count": null,
      "outputs": []
    }
  ]
}